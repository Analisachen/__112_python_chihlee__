{
 "cells": [
  {
   "cell_type": "code",
   "execution_count": 11,
   "metadata": {},
   "outputs": [
    {
     "name": "stdout",
     "output_type": "stream",
     "text": [
      "請輸入學生分數(最高300分):Blank values are not allowed.\n",
      "請輸入學生分數(最高300分):Blank values are not allowed.\n",
      "請輸入學生分數(最高300分):Blank values are not allowed.\n",
      "請輸入學生分數(最高300分):\n",
      "學生大球分數為280\n"
     ]
    }
   ],
   "source": [
    "#學生總分為300\n",
    "import pyinputplus as piyp\n",
    "\n",
    "scores = piyp.inputInt(\"請輸入學生分數(最高300分):\")\n",
    "name = \"大球\"\n",
    "print()\n",
    "print(f\"學生{name}分數為{scores}\") #字串插補\n"
   ]
  },
  {
   "cell_type": "code",
   "execution_count": null,
   "metadata": {},
   "outputs": [],
   "source": [
    "#學生總分為300 #想練習if else 但是沒跟上捏\n",
    "import pyinputplus as piyp\n",
    "\n",
    "scores = piyp.inputInt(\"請輸入學生分數(最高300分):\")\n",
    "name = \"大球\"\n",
    "print()\n",
    "\n",
    "print(f\"學生{name}分數為{scores}\") #字串插補\n"
   ]
  },
  {
   "cell_type": "code",
   "execution_count": 17,
   "metadata": {},
   "outputs": [
    {
     "name": "stdout",
     "output_type": "stream",
     "text": [
      "請輸入學生分數(最高300分):學生是否符合加分條件(請選擇1或2)?\n",
      "1. y\n",
      "2. n\n",
      "'3' is not a valid choice.\n",
      "學生是否符合加分條件(請選擇1或2)?\n",
      "1. y\n",
      "2. n\n",
      "減分\n",
      "\n",
      "學生大球分數為270\n"
     ]
    }
   ],
   "source": [
    "#學生總分為300\n",
    "#有些學生可以加分5%\n",
    "#如果加分超過300，就以300分為準\n",
    "import pyinputplus as piyp\n",
    "\n",
    "scores = piyp.inputInt(\"請輸入學生分數(最高300分):\", min=0,max=300)\n",
    "isYes = piyp.inputMenu(['y', 'n'], prompt=\"學生是否符合加分條件(請選擇1或2)?\\n\", numbered=True)\n",
    "if isYes==\"y\" :\n",
    "    print (\"加分\")\n",
    "\n",
    "else:\n",
    "    print(\"減分\")\n",
    "        \n",
    "name = \"大球\"\n",
    "\n",
    "print()\n",
    "print(f\"學生{name}分數為{scores}\") #字串插補\n"
   ]
  },
  {
   "cell_type": "code",
   "execution_count": 24,
   "metadata": {},
   "outputs": [
    {
     "name": "stdout",
     "output_type": "stream",
     "text": [
      "請輸入學生分數(最高300分):\n",
      "學生是否符合加分條件(請選擇1或2)?\n",
      "1. y\n",
      "2. n\n",
      "\n",
      "學生大球分數為300\n"
     ]
    }
   ],
   "source": [
    "#學生總分為300\n",
    "#有些學生可以加分5%\n",
    "#如果加分超過300，就以300分為準\n",
    "import pyinputplus as piyp\n",
    "\n",
    "scores = piyp.inputInt(\"請輸入學生分數(最高300分):\", min=0,max=300)\n",
    "\n",
    "print()\n",
    "\n",
    "isYes = piyp.inputMenu(['y', 'n'], prompt=\"學生是否符合加分條件(請選擇1或2)?\\n\", numbered=True)\n",
    "if isYes==\"y\" :\n",
    "    scores*=1.05\n",
    "    if scores>300:\n",
    "        scores=300\n",
    "        \n",
    "name = \"大球\"\n",
    "\n",
    "print()\n",
    "print(f\"學生{name}分數為{scores}\") #字串插補"
   ]
  },
  {
   "cell_type": "code",
   "execution_count": 28,
   "metadata": {},
   "outputs": [
    {
     "name": "stdout",
     "output_type": "stream",
     "text": [
      "-3.0\n"
     ]
    }
   ],
   "source": [
    "#巢狀選擇\n",
    "#。如果x不是負數，則傳回值為x ** (1/y) 。\n",
    "#。如果x是負數而且為偶數，則傳回值為\"虛數\"\n",
    "#。如果x是負數而且為奇數，則傳回值為 -(-x)**(1/y)\n",
    "\n",
    "x=-9\n",
    "y=2\n",
    "\n",
    "if x >= 0:\n",
    "    print(\"不是負數\")\n",
    "    root = x ** (1/y)\n",
    "\n",
    "else:\n",
    "    if x % 2== 0:\n",
    "        root=\"虛數\"\n",
    "    else:\n",
    "        root = -(-x)**(1/y)\n",
    "\n",
    "print(root)"
   ]
  },
  {
   "cell_type": "code",
   "execution_count": null,
   "metadata": {},
   "outputs": [],
   "source": [
    "scores=75\n",
    "\n",
    "if scores < 60 :\n",
    "     print(\"不及格\")\n",
    "\n",
    "else :\n",
    "    if scores >= 80\n",
    "        print(\"優\")\n",
    "    else\n",
    "        print(\"甲\")"
   ]
  },
  {
   "cell_type": "code",
   "execution_count": 40,
   "metadata": {},
   "outputs": [
    {
     "name": "stdout",
     "output_type": "stream",
     "text": [
      "甲\n"
     ]
    }
   ],
   "source": [
    "scores= 75\n",
    "\n",
    "if scores < 60 :\n",
    "     print(\"不及格\")\n",
    "\n",
    "elif scores >= 80:\n",
    "        print(\"優\")\n",
    "else:\n",
    "        print(\"甲\")"
   ]
  },
  {
   "cell_type": "code",
   "execution_count": 49,
   "metadata": {},
   "outputs": [
    {
     "name": "stdout",
     "output_type": "stream",
     "text": [
      "優\n"
     ]
    }
   ],
   "source": [
    "#多項選擇\n",
    "\n",
    "scores= 95\n",
    "\n",
    "if scores >= 90:\n",
    "    print(\"優\")\n",
    "elif scores >= 80:\n",
    "    print(\"甲\")\n",
    "elif scores >= 70:\n",
    "    print(\"乙\")\n",
    "elif scores >= 60:\n",
    "    print(\"丙\")\n",
    "else:\n",
    "    print(\"丁\")"
   ]
  },
  {
   "cell_type": "code",
   "execution_count": null,
   "metadata": {},
   "outputs": [],
   "source": [
    "#輸入顧客購買金額，若金額在\n",
    "#100000元打8折\n",
    "#50000元打85折\n",
    "#30000元打9折\n",
    "#10000元打95折\n",
    "\n",
    "#請輸入購買金額：130000\n",
    "#實付金額是:104000.0元\n",
    "\n"
   ]
  }
 ],
 "metadata": {
  "kernelspec": {
   "display_name": "Python 3",
   "language": "python",
   "name": "python3"
  },
  "language_info": {
   "codemirror_mode": {
    "name": "ipython",
    "version": 3
   },
   "file_extension": ".py",
   "mimetype": "text/x-python",
   "name": "python",
   "nbconvert_exporter": "python",
   "pygments_lexer": "ipython3",
   "version": "3.10.13"
  }
 },
 "nbformat": 4,
 "nbformat_minor": 2
}
