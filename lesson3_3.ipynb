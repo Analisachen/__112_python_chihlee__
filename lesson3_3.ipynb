{
 "cells": [
  {
   "cell_type": "code",
   "execution_count": 15,
   "metadata": {},
   "outputs": [
    {
     "name": "stdout",
     "output_type": "stream",
     "text": [
      "輸入錯誤\n",
      "應用程結束\n"
     ]
    }
   ],
   "source": [
    "try:\n",
    "    age = int(input(\"請輸入age\"))\n",
    "except:\n",
    "    print(\"輸入錯誤\")\n",
    "else:\n",
    "    if age >=20:\n",
    "        print(\"您是成年\")\n",
    "        print(age)\n",
    "    else:\n",
    "        print(\"你是未成年\")\n",
    "        print(age)\n",
    "print(\"應用程結束\")\n"
   ]
  },
  {
   "cell_type": "code",
   "execution_count": 16,
   "metadata": {},
   "outputs": [],
   "source": [
    "import pyinputplus"
   ]
  },
  {
   "cell_type": "code",
   "execution_count": 18,
   "metadata": {},
   "outputs": [
    {
     "name": "stdout",
     "output_type": "stream",
     "text": [
      "請輸入age:12\n"
     ]
    }
   ],
   "source": [
    "import pyinputplus as pyip\n",
    "pyip. inputNum(\"請輸入age:\")\n",
    "print(age)\n"
   ]
  }
 ],
 "metadata": {
  "kernelspec": {
   "display_name": "Python 3",
   "language": "python",
   "name": "python3"
  },
  "language_info": {
   "codemirror_mode": {
    "name": "ipython",
    "version": 3
   },
   "file_extension": ".py",
   "mimetype": "text/x-python",
   "name": "python",
   "nbconvert_exporter": "python",
   "pygments_lexer": "ipython3",
   "version": "3.10.13"
  }
 },
 "nbformat": 4,
 "nbformat_minor": 2
}
