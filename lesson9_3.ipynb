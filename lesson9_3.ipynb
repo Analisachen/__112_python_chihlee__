{
 "cells": [
  {
   "cell_type": "code",
   "execution_count": 1,
   "metadata": {},
   "outputs": [],
   "source": [
    "stu1 = [78, 92, 65, 86, 74]\n",
    "stu2 = [78, 95, 63, 72, 74]\n",
    "stu3 = [62, 55, 73, 93, 64]"
   ]
  },
  {
   "cell_type": "code",
   "execution_count": 3,
   "metadata": {},
   "outputs": [
    {
     "data": {
      "text/plain": [
       "[[78, 92, 65, 86, 74], [78, 95, 63, 72, 74], [62, 55, 73, 93, 64]]"
      ]
     },
     "execution_count": 3,
     "metadata": {},
     "output_type": "execute_result"
    }
   ],
   "source": [
    "students = [stu1, stu2, stu3]\n",
    "students"
   ]
  },
  {
   "cell_type": "code",
   "execution_count": 4,
   "metadata": {},
   "outputs": [
    {
     "data": {
      "text/plain": [
       "[[78, 92, 65, 86, 74], [78, 95, 63, 72, 74], [62, 55, 73, 93, 64]]"
      ]
     },
     "execution_count": 4,
     "metadata": {},
     "output_type": "execute_result"
    }
   ],
   "source": [
    "students= list()\n",
    "students.append(stu1)\n",
    "students.append(stu2)\n",
    "students.append(stu3)\n",
    "students"
   ]
  },
  {
   "cell_type": "code",
   "execution_count": 5,
   "metadata": {},
   "outputs": [
    {
     "data": {
      "text/plain": [
       "[96, 95, 79, 55, 51]"
      ]
     },
     "execution_count": 5,
     "metadata": {},
     "output_type": "execute_result"
    }
   ],
   "source": [
    "#建立一個學生的5個分數\n",
    "import random\n",
    "stu = []\n",
    "for _ in range(5):\n",
    "    score= random.randint(50,100)\n",
    "    stu.append(score)\n",
    "stu"
   ]
  },
  {
   "cell_type": "code",
   "execution_count": 7,
   "metadata": {},
   "outputs": [
    {
     "data": {
      "text/plain": [
       "[[59, 89, 70, 66, 55],\n",
       " [92, 69, 74, 100, 70],\n",
       " [99, 96, 66, 98, 78],\n",
       " [58, 70, 65, 83, 54],\n",
       " [80, 74, 99, 87, 88],\n",
       " [90, 90, 62, 58, 50],\n",
       " [53, 79, 100, 90, 89],\n",
       " [65, 68, 93, 65, 61],\n",
       " [80, 96, 76, 88, 70],\n",
       " [51, 75, 71, 57, 54],\n",
       " [81, 81, 95, 79, 96],\n",
       " [55, 54, 52, 97, 51],\n",
       " [66, 79, 89, 88, 56],\n",
       " [87, 53, 64, 91, 56],\n",
       " [87, 98, 69, 81, 87],\n",
       " [67, 100, 64, 76, 100],\n",
       " [53, 58, 82, 90, 74],\n",
       " [92, 92, 97, 61, 51],\n",
       " [93, 68, 56, 94, 83],\n",
       " [99, 79, 68, 50, 60],\n",
       " [73, 78, 88, 69, 96],\n",
       " [50, 97, 65, 95, 83],\n",
       " [82, 50, 86, 88, 68],\n",
       " [97, 96, 91, 80, 99],\n",
       " [71, 96, 75, 71, 52],\n",
       " [82, 90, 57, 79, 99],\n",
       " [71, 65, 75, 68, 68],\n",
       " [64, 78, 53, 66, 98],\n",
       " [72, 89, 77, 76, 50],\n",
       " [78, 65, 86, 52, 70],\n",
       " [77, 62, 51, 64, 99],\n",
       " [94, 76, 52, 89, 56],\n",
       " [50, 72, 89, 71, 83],\n",
       " [74, 86, 68, 57, 55],\n",
       " [66, 82, 60, 59, 94],\n",
       " [85, 84, 56, 55, 91],\n",
       " [83, 64, 65, 67, 66],\n",
       " [82, 85, 87, 69, 95],\n",
       " [77, 67, 99, 96, 90],\n",
       " [69, 70, 72, 76, 89],\n",
       " [100, 66, 58, 74, 81],\n",
       " [87, 59, 78, 50, 83],\n",
       " [50, 86, 68, 58, 74],\n",
       " [64, 63, 73, 81, 55],\n",
       " [68, 100, 69, 58, 54],\n",
       " [87, 92, 73, 85, 87],\n",
       " [52, 63, 91, 53, 87],\n",
       " [85, 66, 61, 88, 89],\n",
       " [80, 57, 92, 71, 99],\n",
       " [74, 89, 84, 84, 90]]"
      ]
     },
     "execution_count": 7,
     "metadata": {},
     "output_type": "execute_result"
    }
   ],
   "source": [
    "#建立一個學生的5個分數\n",
    "#建立50個學生\n",
    "\n",
    "students = []\n",
    "for _ in range(50):\n",
    "    stu = []\n",
    "    for _ in range(5):    \n",
    "        score = random.randint(50,100)\n",
    "        stu.append(score)\n",
    "    students.append(stu)\n",
    "\n",
    "students"
   ]
  },
  {
   "cell_type": "code",
   "execution_count": 8,
   "metadata": {},
   "outputs": [
    {
     "data": {
      "text/plain": [
       "[[85, 96, 57, 50, 50],\n",
       " [70, 66, 92, 59, 64],\n",
       " [64, 88, 70, 55, 59],\n",
       " [56, 94, 54, 80, 72],\n",
       " [59, 50, 54, 93, 74],\n",
       " [75, 56, 54, 69, 70],\n",
       " [95, 96, 100, 71, 72],\n",
       " [88, 68, 75, 91, 72],\n",
       " [95, 99, 98, 84, 59],\n",
       " [63, 99, 80, 84, 50],\n",
       " [76, 73, 70, 67, 71],\n",
       " [73, 61, 87, 100, 52],\n",
       " [95, 65, 92, 75, 53],\n",
       " [56, 75, 75, 96, 70],\n",
       " [64, 74, 61, 70, 56],\n",
       " [65, 59, 96, 63, 62],\n",
       " [57, 71, 81, 98, 83],\n",
       " [65, 96, 71, 85, 86],\n",
       " [52, 68, 73, 69, 81],\n",
       " [84, 79, 68, 94, 59],\n",
       " [57, 51, 75, 77, 75],\n",
       " [61, 70, 85, 91, 78],\n",
       " [95, 81, 51, 87, 93],\n",
       " [77, 96, 79, 76, 72],\n",
       " [71, 91, 95, 74, 89],\n",
       " [76, 63, 84, 92, 94],\n",
       " [80, 51, 50, 78, 98],\n",
       " [87, 97, 70, 73, 50],\n",
       " [59, 52, 64, 77, 85],\n",
       " [83, 60, 78, 70, 64],\n",
       " [90, 97, 53, 64, 68],\n",
       " [62, 86, 79, 68, 74],\n",
       " [65, 68, 81, 67, 63],\n",
       " [99, 81, 96, 58, 69],\n",
       " [65, 89, 71, 71, 84],\n",
       " [85, 70, 99, 91, 91],\n",
       " [79, 94, 76, 52, 62],\n",
       " [67, 77, 51, 89, 82],\n",
       " [90, 51, 92, 91, 73],\n",
       " [86, 52, 60, 67, 89],\n",
       " [75, 71, 56, 51, 50],\n",
       " [71, 94, 91, 71, 99],\n",
       " [50, 69, 98, 94, 81],\n",
       " [79, 91, 52, 62, 78],\n",
       " [91, 70, 63, 62, 78],\n",
       " [56, 51, 73, 58, 78],\n",
       " [69, 58, 79, 95, 64],\n",
       " [83, 90, 59, 87, 55],\n",
       " [53, 54, 88, 90, 66],\n",
       " [52, 99, 72, 56, 87]]"
      ]
     },
     "execution_count": 8,
     "metadata": {},
     "output_type": "execute_result"
    }
   ],
   "source": [
    "import random\n",
    "def createStudent()->list[int]:\n",
    "    stu = []\n",
    "    for _ in range(5):    \n",
    "        score = random.randint(50,100)\n",
    "        stu.append(score)\n",
    "    return stu\n",
    "\n",
    "\n",
    "classes = []\n",
    "for _ in range(50):\n",
    "    stu = createStudent()\n",
    "    classes.append(stu)\n",
    "classes"
   ]
  },
  {
   "cell_type": "code",
   "execution_count": 9,
   "metadata": {},
   "outputs": [
    {
     "data": {
      "text/plain": [
       "[[70, 72, 73, 83, 99],\n",
       " [52, 56, 97, 57, 68],\n",
       " [62, 70, 95, 69, 60],\n",
       " [84, 91, 54, 82, 50],\n",
       " [90, 55, 80, 68, 72],\n",
       " [86, 92, 100, 91, 75],\n",
       " [97, 58, 63, 84, 87],\n",
       " [61, 52, 99, 63, 67],\n",
       " [87, 72, 73, 60, 68],\n",
       " [100, 54, 51, 94, 69]]"
      ]
     },
     "execution_count": 9,
     "metadata": {},
     "output_type": "execute_result"
    }
   ],
   "source": [
    "import random\n",
    "def createStudent()->list[int]:\n",
    "    stu = []\n",
    "    for _ in range(5):    \n",
    "        score = random.randint(50,100)\n",
    "        stu.append(score)\n",
    "    return stu\n",
    "\n",
    "def createClasses(numbers:int)->list[list]:\n",
    "    classes = []\n",
    "    for _ in range(numbers):\n",
    "        stu = createStudent()\n",
    "        classes.append(stu)\n",
    "    return classes\n",
    "\n",
    "createClasses(10)"
   ]
  }
 ],
 "metadata": {
  "kernelspec": {
   "display_name": "Python 3",
   "language": "python",
   "name": "python3"
  },
  "language_info": {
   "codemirror_mode": {
    "name": "ipython",
    "version": 3
   },
   "file_extension": ".py",
   "mimetype": "text/x-python",
   "name": "python",
   "nbconvert_exporter": "python",
   "pygments_lexer": "ipython3",
   "version": "3.10.13"
  }
 },
 "nbformat": 4,
 "nbformat_minor": 2
}
