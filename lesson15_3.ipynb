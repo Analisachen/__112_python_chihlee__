{
 "cells": [
  {
   "cell_type": "code",
   "execution_count": 5,
   "metadata": {},
   "outputs": [
    {
     "data": {
      "text/html": [
       "<div>\n",
       "<style scoped>\n",
       "    .dataframe tbody tr th:only-of-type {\n",
       "        vertical-align: middle;\n",
       "    }\n",
       "\n",
       "    .dataframe tbody tr th {\n",
       "        vertical-align: top;\n",
       "    }\n",
       "\n",
       "    .dataframe thead th {\n",
       "        text-align: right;\n",
       "    }\n",
       "</style>\n",
       "<table border=\"1\" class=\"dataframe\">\n",
       "  <thead>\n",
       "    <tr style=\"text-align: right;\">\n",
       "      <th></th>\n",
       "      <th>d</th>\n",
       "      <th>f</th>\n",
       "      <th>e</th>\n",
       "    </tr>\n",
       "  </thead>\n",
       "  <tbody>\n",
       "    <tr>\n",
       "      <th>台北</th>\n",
       "      <td>-1.391627</td>\n",
       "      <td>0.145025</td>\n",
       "      <td>0.873043</td>\n",
       "    </tr>\n",
       "    <tr>\n",
       "      <th>台中</th>\n",
       "      <td>-0.654557</td>\n",
       "      <td>-0.740565</td>\n",
       "      <td>-1.200743</td>\n",
       "    </tr>\n",
       "    <tr>\n",
       "      <th>台南</th>\n",
       "      <td>0.218259</td>\n",
       "      <td>1.779071</td>\n",
       "      <td>-0.831132</td>\n",
       "    </tr>\n",
       "    <tr>\n",
       "      <th>高雄</th>\n",
       "      <td>0.302800</td>\n",
       "      <td>-1.580813</td>\n",
       "      <td>0.779787</td>\n",
       "    </tr>\n",
       "  </tbody>\n",
       "</table>\n",
       "</div>"
      ],
      "text/plain": [
       "           d         f         e\n",
       "台北 -1.391627  0.145025  0.873043\n",
       "台中 -0.654557 -0.740565 -1.200743\n",
       "台南  0.218259  1.779071 -0.831132\n",
       "高雄  0.302800 -1.580813  0.779787"
      ]
     },
     "execution_count": 5,
     "metadata": {},
     "output_type": "execute_result"
    }
   ],
   "source": [
    "import numpy as np\n",
    "import pandas as pd\n",
    "\n",
    "frame = pd.DataFrame(np.random.randn(4,3),\n",
    "             columns=['d','f','e'],\n",
    "             index=['台北','台中','台南','高雄']\n",
    "            )\n",
    "frame"
   ]
  },
  {
   "cell_type": "code",
   "execution_count": 6,
   "metadata": {},
   "outputs": [
    {
     "data": {
      "text/html": [
       "<div>\n",
       "<style scoped>\n",
       "    .dataframe tbody tr th:only-of-type {\n",
       "        vertical-align: middle;\n",
       "    }\n",
       "\n",
       "    .dataframe tbody tr th {\n",
       "        vertical-align: top;\n",
       "    }\n",
       "\n",
       "    .dataframe thead th {\n",
       "        text-align: right;\n",
       "    }\n",
       "</style>\n",
       "<table border=\"1\" class=\"dataframe\">\n",
       "  <thead>\n",
       "    <tr style=\"text-align: right;\">\n",
       "      <th></th>\n",
       "      <th>d</th>\n",
       "      <th>f</th>\n",
       "      <th>e</th>\n",
       "    </tr>\n",
       "  </thead>\n",
       "  <tbody>\n",
       "    <tr>\n",
       "      <th>台北</th>\n",
       "      <td>1.391627</td>\n",
       "      <td>0.145025</td>\n",
       "      <td>0.873043</td>\n",
       "    </tr>\n",
       "    <tr>\n",
       "      <th>台中</th>\n",
       "      <td>0.654557</td>\n",
       "      <td>0.740565</td>\n",
       "      <td>1.200743</td>\n",
       "    </tr>\n",
       "    <tr>\n",
       "      <th>台南</th>\n",
       "      <td>0.218259</td>\n",
       "      <td>1.779071</td>\n",
       "      <td>0.831132</td>\n",
       "    </tr>\n",
       "    <tr>\n",
       "      <th>高雄</th>\n",
       "      <td>0.302800</td>\n",
       "      <td>1.580813</td>\n",
       "      <td>0.779787</td>\n",
       "    </tr>\n",
       "  </tbody>\n",
       "</table>\n",
       "</div>"
      ],
      "text/plain": [
       "           d         f         e\n",
       "台北  1.391627  0.145025  0.873043\n",
       "台中  0.654557  0.740565  1.200743\n",
       "台南  0.218259  1.779071  0.831132\n",
       "高雄  0.302800  1.580813  0.779787"
      ]
     },
     "execution_count": 6,
     "metadata": {},
     "output_type": "execute_result"
    }
   ],
   "source": [
    "np.absolute(frame)"
   ]
  },
  {
   "cell_type": "code",
   "execution_count": 7,
   "metadata": {},
   "outputs": [
    {
     "name": "stdout",
     "output_type": "stream",
     "text": [
      "-1.391627423414448\n",
      "-0.6545569112385959\n",
      "0.21825890170588255\n",
      "0.3027998530959774\n",
      "=======\n",
      "0.14502496836875656\n",
      "-0.7405645030496404\n",
      "1.779070589812102\n",
      "-1.5808133008059018\n",
      "=======\n",
      "0.873043314983724\n",
      "-1.2007427686222496\n",
      "-0.8311323643877856\n",
      "0.7797871394926086\n",
      "=======\n"
     ]
    }
   ],
   "source": [
    "#使用for in 讀取DataFrame\n",
    "for column in frame:\n",
    "    for item in frame[column]:\n",
    "        print(item)\n",
    "    print(\"=======\")\n",
    "        "
   ]
  },
  {
   "cell_type": "code",
   "execution_count": 8,
   "metadata": {},
   "outputs": [
    {
     "name": "stdout",
     "output_type": "stream",
     "text": [
      "台北    1.391627\n",
      "台中    0.654557\n",
      "台南    0.218259\n",
      "高雄    0.302800\n",
      "Name: d, dtype: float64\n",
      "台北    0.145025\n",
      "台中    0.740565\n",
      "台南    1.779071\n",
      "高雄    1.580813\n",
      "Name: f, dtype: float64\n",
      "台北    0.873043\n",
      "台中    1.200743\n",
      "台南    0.831132\n",
      "高雄    0.779787\n",
      "Name: e, dtype: float64\n"
     ]
    }
   ],
   "source": [
    "#使用for in 讀取DataFrame\n",
    "for column in frame:\n",
    "    print(np.abs(frame[column]))\n",
    "        \n",
    "        "
   ]
  },
  {
   "cell_type": "code",
   "execution_count": 9,
   "metadata": {},
   "outputs": [
    {
     "data": {
      "text/plain": [
       "d    0.302800\n",
       "f    1.779071\n",
       "e    0.873043\n",
       "dtype: float64"
      ]
     },
     "execution_count": 9,
     "metadata": {},
     "output_type": "execute_result"
    }
   ],
   "source": [
    "np.max(frame,axis=0)"
   ]
  },
  {
   "cell_type": "code",
   "execution_count": 10,
   "metadata": {},
   "outputs": [
    {
     "data": {
      "text/plain": [
       "台北    0.873043\n",
       "台中   -0.654557\n",
       "台南    1.779071\n",
       "高雄    0.779787\n",
       "dtype: float64"
      ]
     },
     "execution_count": 10,
     "metadata": {},
     "output_type": "execute_result"
    }
   ],
   "source": [
    "np.max(frame,axis=1)"
   ]
  },
  {
   "cell_type": "code",
   "execution_count": 11,
   "metadata": {},
   "outputs": [
    {
     "data": {
      "text/plain": [
       "d    1.694427\n",
       "f    3.359884\n",
       "e    2.073786\n",
       "dtype: float64"
      ]
     },
     "execution_count": 11,
     "metadata": {},
     "output_type": "execute_result"
    }
   ],
   "source": [
    "#使用numpy的function\n",
    "np.max(frame,axis=0) - np.min(frame,axis=0)"
   ]
  },
  {
   "cell_type": "code",
   "execution_count": 12,
   "metadata": {},
   "outputs": [
    {
     "data": {
      "text/plain": [
       "d    1.694427\n",
       "f    3.359884\n",
       "e    2.073786\n",
       "dtype: float64"
      ]
     },
     "execution_count": 12,
     "metadata": {},
     "output_type": "execute_result"
    }
   ],
   "source": [
    "\n",
    "#使用dataFrame的method\n",
    "frame.max(axis=0) - frame.min(axis=0)"
   ]
  },
  {
   "cell_type": "code",
   "execution_count": 13,
   "metadata": {},
   "outputs": [
    {
     "name": "stdout",
     "output_type": "stream",
     "text": [
      "d\n",
      "f\n",
      "e\n"
     ]
    },
    {
     "data": {
      "text/plain": [
       "d    2.694427\n",
       "f    4.359884\n",
       "e    3.073786\n",
       "dtype: float64"
      ]
     },
     "execution_count": 13,
     "metadata": {},
     "output_type": "execute_result"
    }
   ],
   "source": [
    "def fun1(series):\n",
    "    print(series.name)\n",
    "    return series.max() - series.min() + 1\n",
    "\n",
    "frame.apply(fun1)"
   ]
  }
 ],
 "metadata": {
  "kernelspec": {
   "display_name": "Python 3",
   "language": "python",
   "name": "python3"
  },
  "language_info": {
   "codemirror_mode": {
    "name": "ipython",
    "version": 3
   },
   "file_extension": ".py",
   "mimetype": "text/x-python",
   "name": "python",
   "nbconvert_exporter": "python",
   "pygments_lexer": "ipython3",
   "version": "3.10.13"
  }
 },
 "nbformat": 4,
 "nbformat_minor": 2
}
